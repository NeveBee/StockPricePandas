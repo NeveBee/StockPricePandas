{
 "cells": [
  {
   "cell_type": "code",
   "execution_count": 1,
   "metadata": {
    "collapsed": false,
    "deletable": true,
    "editable": true
   },
   "outputs": [
    {
     "ename": "ImportError",
     "evalue": "No module named 'bokeh.layouts'; 'bokeh' is not a package",
     "output_type": "error",
     "traceback": [
      "\u001b[0;31m---------------------------------------------------------------------------\u001b[0m",
      "\u001b[0;31mImportError\u001b[0m                               Traceback (most recent call last)",
      "\u001b[0;32m<ipython-input-1-549d5030ddd3>\u001b[0m in \u001b[0;36m<module>\u001b[0;34m()\u001b[0m\n\u001b[1;32m      5\u001b[0m \u001b[0;32mimport\u001b[0m \u001b[0mquandl\u001b[0m\u001b[0;34m\u001b[0m\u001b[0m\n\u001b[1;32m      6\u001b[0m \u001b[0;32mimport\u001b[0m \u001b[0mbokeh\u001b[0m\u001b[0;34m\u001b[0m\u001b[0m\n\u001b[0;32m----> 7\u001b[0;31m \u001b[0;32mfrom\u001b[0m \u001b[0mbokeh\u001b[0m\u001b[0;34m.\u001b[0m\u001b[0mlayouts\u001b[0m \u001b[0;32mimport\u001b[0m \u001b[0mgridplot\u001b[0m\u001b[0;34m\u001b[0m\u001b[0m\n\u001b[0m\u001b[1;32m      8\u001b[0m \u001b[0;32mfrom\u001b[0m \u001b[0mbokeh\u001b[0m\u001b[0;34m.\u001b[0m\u001b[0mplotting\u001b[0m \u001b[0;32mimport\u001b[0m \u001b[0mfigure\u001b[0m\u001b[0;34m,\u001b[0m \u001b[0mshow\u001b[0m\u001b[0;34m,\u001b[0m \u001b[0moutput_file\u001b[0m\u001b[0;34m\u001b[0m\u001b[0m\n\u001b[1;32m      9\u001b[0m \u001b[0;34m\u001b[0m\u001b[0m\n",
      "\u001b[0;31mImportError\u001b[0m: No module named 'bokeh.layouts'; 'bokeh' is not a package"
     ]
    }
   ],
   "source": [
    "import numpy as np\n",
    "import pandas as pd\n",
    "import simplejson as json\n",
    "import requests\n",
    "import quandl\n",
    "import bokeh\n",
    "from bokeh.layouts import gridplot\n",
    "from bokeh.plotting import figure, show, output_file\n",
    "\n",
    "#help(quandl.get)\n"
   ]
  },
  {
   "cell_type": "code",
   "execution_count": 2,
   "metadata": {
    "collapsed": false,
    "deletable": true,
    "editable": true
   },
   "outputs": [
    {
     "data": {
      "text/plain": [
       "'/Users/qiaolinchen/Documents/Data_Incubator/12day/flask_demo'"
      ]
     },
     "execution_count": 2,
     "metadata": {},
     "output_type": "execute_result"
    }
   ],
   "source": [
    "import os\n",
    "cwd = os.getcwd()\n",
    "cwd"
   ]
  },
  {
   "cell_type": "code",
   "execution_count": 2,
   "metadata": {
    "collapsed": false,
    "deletable": true,
    "editable": true
   },
   "outputs": [
    {
     "name": "stdout",
     "output_type": "stream",
     "text": [
      "['WIKI/GOOG-Open', 'WIKI/FB-Open', 'WIKI/AAPL-Open']\n",
      "Index(['WIKI/GOOG-Open - Open', 'WIKI/GOOG-Open - High',\n",
      "       'WIKI/GOOG-Open - Low', 'WIKI/GOOG-Open - Close',\n",
      "       'WIKI/GOOG-Open - Volume', 'WIKI/GOOG-Open - Ex-Dividend',\n",
      "       'WIKI/GOOG-Open - Split Ratio', 'WIKI/GOOG-Open - Adj. Open',\n",
      "       'WIKI/GOOG-Open - Adj. High', 'WIKI/GOOG-Open - Adj. Low',\n",
      "       'WIKI/GOOG-Open - Adj. Close', 'WIKI/GOOG-Open - Adj. Volume',\n",
      "       'WIKI/FB-Open - Open', 'WIKI/FB-Open - High', 'WIKI/FB-Open - Low',\n",
      "       'WIKI/FB-Open - Close', 'WIKI/FB-Open - Volume',\n",
      "       'WIKI/FB-Open - Ex-Dividend', 'WIKI/FB-Open - Split Ratio',\n",
      "       'WIKI/FB-Open - Adj. Open', 'WIKI/FB-Open - Adj. High',\n",
      "       'WIKI/FB-Open - Adj. Low', 'WIKI/FB-Open - Adj. Close',\n",
      "       'WIKI/FB-Open - Adj. Volume', 'WIKI/AAPL-Open - Open',\n",
      "       'WIKI/AAPL-Open - High', 'WIKI/AAPL-Open - Low',\n",
      "       'WIKI/AAPL-Open - Close', 'WIKI/AAPL-Open - Volume',\n",
      "       'WIKI/AAPL-Open - Ex-Dividend', 'WIKI/AAPL-Open - Split Ratio',\n",
      "       'WIKI/AAPL-Open - Adj. Open', 'WIKI/AAPL-Open - Adj. High',\n",
      "       'WIKI/AAPL-Open - Adj. Low', 'WIKI/AAPL-Open - Adj. Close',\n",
      "       'WIKI/AAPL-Open - Adj. Volume'],\n",
      "      dtype='object')\n",
      "['WIKI/GOOG-Open - Open', 'WIKI/GOOG-Open - High', 'WIKI/GOOG-Open - Close', 'WIKI/GOOG-Open - Low', 'WIKI/FB-Open - Open', 'WIKI/FB-Open - High', 'WIKI/FB-Open - Close', 'WIKI/FB-Open - Low', 'WIKI/AAPL-Open - Open', 'WIKI/AAPL-Open - High', 'WIKI/AAPL-Open - Close', 'WIKI/AAPL-Open - Low']\n"
     ]
    }
   ],
   "source": [
    "# A list of tickers\n",
    "tickers = ['GOOG','FB','AAPL']\n",
    "# A list of features to show\n",
    "input_feature = [' - Open',' - High', ' - Close', ' - Low']\n",
    "\n",
    "# create a list of dataset names\n",
    "dset =[]\n",
    "for ticker in tickers:\n",
    "    dset.append(\"WIKI/\"+ ticker +\"-Open\")\n",
    "\n",
    "print(dset)\n",
    "stock = quandl.get(dataset= dset, \n",
    "                    api_key= 'wad4CxZw1s-6BTGhjei6', returns= 'pandas' )\n",
    "print(stock.columns)\n",
    "\n",
    "def datetime(x):\n",
    "    return np.array(x, dtype=np.datetime64)\n",
    "\n",
    "features =[]\n",
    "for ds in dset:\n",
    "    for f in input_feature:\n",
    "        features.append(ds + f)\n",
    "print(features)\n"
   ]
  },
  {
   "cell_type": "code",
   "execution_count": 3,
   "metadata": {
    "collapsed": false,
    "deletable": true,
    "editable": true
   },
   "outputs": [
    {
     "data": {
      "text/html": [
       "<div>\n",
       "<table border=\"1\" class=\"dataframe\">\n",
       "  <thead>\n",
       "    <tr style=\"text-align: right;\">\n",
       "      <th></th>\n",
       "      <th>WIKI/GOOG-Open - Open</th>\n",
       "      <th>WIKI/GOOG-Open - High</th>\n",
       "      <th>WIKI/GOOG-Open - Close</th>\n",
       "      <th>WIKI/GOOG-Open - Low</th>\n",
       "      <th>WIKI/FB-Open - Open</th>\n",
       "      <th>WIKI/FB-Open - High</th>\n",
       "      <th>WIKI/FB-Open - Close</th>\n",
       "      <th>WIKI/FB-Open - Low</th>\n",
       "      <th>WIKI/AAPL-Open - Open</th>\n",
       "      <th>WIKI/AAPL-Open - High</th>\n",
       "      <th>WIKI/AAPL-Open - Close</th>\n",
       "      <th>WIKI/AAPL-Open - Low</th>\n",
       "      <th>Date</th>\n",
       "    </tr>\n",
       "    <tr>\n",
       "      <th>Date</th>\n",
       "      <th></th>\n",
       "      <th></th>\n",
       "      <th></th>\n",
       "      <th></th>\n",
       "      <th></th>\n",
       "      <th></th>\n",
       "      <th></th>\n",
       "      <th></th>\n",
       "      <th></th>\n",
       "      <th></th>\n",
       "      <th></th>\n",
       "      <th></th>\n",
       "      <th></th>\n",
       "    </tr>\n",
       "  </thead>\n",
       "  <tbody>\n",
       "    <tr>\n",
       "      <th>2017-03-17</th>\n",
       "      <td>851.61</td>\n",
       "      <td>853.40</td>\n",
       "      <td>852.12</td>\n",
       "      <td>847.1100</td>\n",
       "      <td>140.34</td>\n",
       "      <td>140.3400</td>\n",
       "      <td>139.78</td>\n",
       "      <td>139.70</td>\n",
       "      <td>141.000</td>\n",
       "      <td>141.0000</td>\n",
       "      <td>139.9100</td>\n",
       "      <td>139.89</td>\n",
       "      <td>2017-03-17</td>\n",
       "    </tr>\n",
       "    <tr>\n",
       "      <th>2017-03-20</th>\n",
       "      <td>850.01</td>\n",
       "      <td>850.22</td>\n",
       "      <td>848.40</td>\n",
       "      <td>845.1500</td>\n",
       "      <td>139.71</td>\n",
       "      <td>140.1900</td>\n",
       "      <td>139.94</td>\n",
       "      <td>139.25</td>\n",
       "      <td>140.400</td>\n",
       "      <td>141.5000</td>\n",
       "      <td>141.4500</td>\n",
       "      <td>140.23</td>\n",
       "      <td>2017-03-20</td>\n",
       "    </tr>\n",
       "    <tr>\n",
       "      <th>2017-03-21</th>\n",
       "      <td>851.40</td>\n",
       "      <td>853.50</td>\n",
       "      <td>830.46</td>\n",
       "      <td>829.0200</td>\n",
       "      <td>141.15</td>\n",
       "      <td>142.3082</td>\n",
       "      <td>138.51</td>\n",
       "      <td>138.40</td>\n",
       "      <td>142.110</td>\n",
       "      <td>142.8000</td>\n",
       "      <td>139.8547</td>\n",
       "      <td>139.73</td>\n",
       "      <td>2017-03-21</td>\n",
       "    </tr>\n",
       "    <tr>\n",
       "      <th>2017-03-22</th>\n",
       "      <td>831.91</td>\n",
       "      <td>835.55</td>\n",
       "      <td>829.59</td>\n",
       "      <td>827.1801</td>\n",
       "      <td>137.93</td>\n",
       "      <td>139.7900</td>\n",
       "      <td>139.59</td>\n",
       "      <td>137.60</td>\n",
       "      <td>139.845</td>\n",
       "      <td>141.6000</td>\n",
       "      <td>141.4200</td>\n",
       "      <td>139.76</td>\n",
       "      <td>2017-03-22</td>\n",
       "    </tr>\n",
       "    <tr>\n",
       "      <th>2017-03-23</th>\n",
       "      <td>821.00</td>\n",
       "      <td>822.57</td>\n",
       "      <td>817.58</td>\n",
       "      <td>812.2570</td>\n",
       "      <td>139.48</td>\n",
       "      <td>140.3900</td>\n",
       "      <td>139.53</td>\n",
       "      <td>139.09</td>\n",
       "      <td>141.260</td>\n",
       "      <td>141.5844</td>\n",
       "      <td>140.9200</td>\n",
       "      <td>140.61</td>\n",
       "      <td>2017-03-23</td>\n",
       "    </tr>\n",
       "  </tbody>\n",
       "</table>\n",
       "</div>"
      ],
      "text/plain": [
       "            WIKI/GOOG-Open - Open  WIKI/GOOG-Open - High  \\\n",
       "Date                                                       \n",
       "2017-03-17                 851.61                 853.40   \n",
       "2017-03-20                 850.01                 850.22   \n",
       "2017-03-21                 851.40                 853.50   \n",
       "2017-03-22                 831.91                 835.55   \n",
       "2017-03-23                 821.00                 822.57   \n",
       "\n",
       "            WIKI/GOOG-Open - Close  WIKI/GOOG-Open - Low  WIKI/FB-Open - Open  \\\n",
       "Date                                                                            \n",
       "2017-03-17                  852.12              847.1100               140.34   \n",
       "2017-03-20                  848.40              845.1500               139.71   \n",
       "2017-03-21                  830.46              829.0200               141.15   \n",
       "2017-03-22                  829.59              827.1801               137.93   \n",
       "2017-03-23                  817.58              812.2570               139.48   \n",
       "\n",
       "            WIKI/FB-Open - High  WIKI/FB-Open - Close  WIKI/FB-Open - Low  \\\n",
       "Date                                                                        \n",
       "2017-03-17             140.3400                139.78              139.70   \n",
       "2017-03-20             140.1900                139.94              139.25   \n",
       "2017-03-21             142.3082                138.51              138.40   \n",
       "2017-03-22             139.7900                139.59              137.60   \n",
       "2017-03-23             140.3900                139.53              139.09   \n",
       "\n",
       "            WIKI/AAPL-Open - Open  WIKI/AAPL-Open - High  \\\n",
       "Date                                                       \n",
       "2017-03-17                141.000               141.0000   \n",
       "2017-03-20                140.400               141.5000   \n",
       "2017-03-21                142.110               142.8000   \n",
       "2017-03-22                139.845               141.6000   \n",
       "2017-03-23                141.260               141.5844   \n",
       "\n",
       "            WIKI/AAPL-Open - Close  WIKI/AAPL-Open - Low       Date  \n",
       "Date                                                                 \n",
       "2017-03-17                139.9100                139.89 2017-03-17  \n",
       "2017-03-20                141.4500                140.23 2017-03-20  \n",
       "2017-03-21                139.8547                139.73 2017-03-21  \n",
       "2017-03-22                141.4200                139.76 2017-03-22  \n",
       "2017-03-23                140.9200                140.61 2017-03-23  "
      ]
     },
     "execution_count": 3,
     "metadata": {},
     "output_type": "execute_result"
    }
   ],
   "source": [
    "# select only features wanted\n",
    "stock_data= stock.loc[:, features]\n",
    "stock_data['Date'] = stock_data.index.values.astype('datetime64[ns]')\n",
    "stock_data.tail()"
   ]
  },
  {
   "cell_type": "code",
   "execution_count": 10,
   "metadata": {
    "collapsed": false,
    "deletable": true,
    "editable": true
   },
   "outputs": [
    {
     "name": "stdout",
     "output_type": "stream",
     "text": [
      "['GOOG', 'FB', 'AAPL']\n",
      "[' - Open', ' - High', ' - Close', ' - Low']\n",
      "['WIKI/GOOG-Open', 'WIKI/FB-Open', 'WIKI/AAPL-Open']\n",
      "0 GOOG  - Open\n",
      "1 GOOG  - High\n",
      "2 GOOG  - Close\n",
      "3 GOOG  - Low\n",
      "0 FB  - Open\n",
      "1 FB  - High\n",
      "2 FB  - Close\n",
      "3 FB  - Low\n",
      "0 AAPL  - Open\n",
      "1 AAPL  - High\n",
      "2 AAPL  - Close\n",
      "3 AAPL  - Low\n",
      "[Figure(id='793b8e84-4cb4-4780-aa06-02f0eaf8ccbe', ...), Figure(id='9e3fe8c4-e7a5-4303-a8fa-079994657b35', ...), Figure(id='e87a4b7e-a906-42e3-9f40-9a97dbf54fa2', ...)]\n"
     ]
    },
    {
     "ename": "ValueError",
     "evalue": "Input must be exactly one Model or Document",
     "output_type": "error",
     "traceback": [
      "\u001b[0;31m---------------------------------------------------------------------------\u001b[0m",
      "\u001b[0;31mValueError\u001b[0m                                Traceback (most recent call last)",
      "\u001b[0;32m<ipython-input-10-225f7e165d6d>\u001b[0m in \u001b[0;36m<module>\u001b[0;34m()\u001b[0m\n\u001b[1;32m     27\u001b[0m \u001b[0;31m#print(script)\u001b[0m\u001b[0;34m\u001b[0m\u001b[0;34m\u001b[0m\u001b[0m\n\u001b[1;32m     28\u001b[0m \u001b[0;31m#print(div)\u001b[0m\u001b[0;34m\u001b[0m\u001b[0;34m\u001b[0m\u001b[0m\n\u001b[0;32m---> 29\u001b[0;31m \u001b[0mdiv\u001b[0m \u001b[0;34m=\u001b[0m \u001b[0mnotebook_div\u001b[0m\u001b[0;34m(\u001b[0m\u001b[0mplot_list\u001b[0m\u001b[0;34m)\u001b[0m\u001b[0;34m\u001b[0m\u001b[0m\n\u001b[0m\u001b[1;32m     30\u001b[0m \u001b[0;34m\u001b[0m\u001b[0m\n\u001b[1;32m     31\u001b[0m \u001b[0;31m#output_file(\"stocks.html\", title=\"Stock Price\")\u001b[0m\u001b[0;34m\u001b[0m\u001b[0;34m\u001b[0m\u001b[0m\n",
      "\u001b[0;32m/Users/qiaolinchen/.pyenv/versions/3.5.3/lib/python3.5/site-packages/bokeh/embed.py\u001b[0m in \u001b[0;36mnotebook_div\u001b[0;34m(model, notebook_comms_target)\u001b[0m\n\u001b[1;32m    239\u001b[0m \u001b[0;34m\u001b[0m\u001b[0m\n\u001b[1;32m    240\u001b[0m     '''\n\u001b[0;32m--> 241\u001b[0;31m     \u001b[0mmodel\u001b[0m \u001b[0;34m=\u001b[0m \u001b[0m_check_one_model\u001b[0m\u001b[0;34m(\u001b[0m\u001b[0mmodel\u001b[0m\u001b[0;34m)\u001b[0m\u001b[0;34m\u001b[0m\u001b[0m\n\u001b[0m\u001b[1;32m    242\u001b[0m \u001b[0;34m\u001b[0m\u001b[0m\n\u001b[1;32m    243\u001b[0m     \u001b[0;32mwith\u001b[0m \u001b[0m_ModelInEmptyDocument\u001b[0m\u001b[0;34m(\u001b[0m\u001b[0mmodel\u001b[0m\u001b[0;34m)\u001b[0m\u001b[0;34m:\u001b[0m\u001b[0;34m\u001b[0m\u001b[0m\n",
      "\u001b[0;32m/Users/qiaolinchen/.pyenv/versions/3.5.3/lib/python3.5/site-packages/bokeh/embed.py\u001b[0m in \u001b[0;36m_check_one_model\u001b[0;34m(model)\u001b[0m\n\u001b[1;32m    512\u001b[0m     \u001b[0mmodels\u001b[0m \u001b[0;34m=\u001b[0m \u001b[0m_check_models\u001b[0m\u001b[0;34m(\u001b[0m\u001b[0mmodel\u001b[0m\u001b[0;34m)\u001b[0m\u001b[0;34m\u001b[0m\u001b[0m\n\u001b[1;32m    513\u001b[0m     \u001b[0;32mif\u001b[0m \u001b[0mlen\u001b[0m\u001b[0;34m(\u001b[0m\u001b[0mmodels\u001b[0m\u001b[0;34m)\u001b[0m \u001b[0;34m!=\u001b[0m \u001b[0;36m1\u001b[0m\u001b[0;34m:\u001b[0m\u001b[0;34m\u001b[0m\u001b[0m\n\u001b[0;32m--> 514\u001b[0;31m         \u001b[0;32mraise\u001b[0m \u001b[0mValueError\u001b[0m\u001b[0;34m(\u001b[0m\u001b[0;34m\"Input must be exactly one Model or Document\"\u001b[0m\u001b[0;34m)\u001b[0m\u001b[0;34m\u001b[0m\u001b[0m\n\u001b[0m\u001b[1;32m    515\u001b[0m     \u001b[0;32mreturn\u001b[0m \u001b[0mmodels\u001b[0m\u001b[0;34m[\u001b[0m\u001b[0;36m0\u001b[0m\u001b[0;34m]\u001b[0m\u001b[0;34m\u001b[0m\u001b[0m\n\u001b[1;32m    516\u001b[0m \u001b[0;34m\u001b[0m\u001b[0m\n",
      "\u001b[0;31mValueError\u001b[0m: Input must be exactly one Model or Document"
     ]
    }
   ],
   "source": [
    "color_list = ['#A6CEE3','#B2DF8A','#33A02C','#FB9A99','blue']\n",
    "plot_list =[]\n",
    "print(tickers)\n",
    "print(input_feature)\n",
    "print(dset)\n",
    "\n",
    "for x in tickers:\n",
    "    globals()['p%s' % x] = figure(x_axis_type=\"datetime\", title=\"Stock Closing Prices: \"+x)\n",
    "    globals()['p%s' % x].grid.grid_line_alpha=0.3    \n",
    "    globals()['p%s' % x].xaxis.axis_label = 'Date'   \n",
    "    globals()['p%s' % x].yaxis.axis_label = 'Price'    \n",
    "    globals()['p%s' % x].ygrid.band_fill_color = \"olive\"\n",
    "    globals()['p%s' % x].ygrid.band_fill_alpha = 0.05\n",
    "\n",
    "    for f in input_feature :\n",
    "        i= input_feature.index(f)\n",
    "        #print(i, x, f)\n",
    "        globals()['p%s' % x].line(datetime(stock_data['Date']), stock_data['WIKI/'+x+'-Open'+f], \n",
    "                                  color= color_list[i], legend= x+f) \n",
    "    \n",
    "    globals()['p%s' % x].legend.location = \"top_left\"\n",
    "    \n",
    "    plot_list.append(globals()['p%s' % x])\n",
    "print(plot_list)    \n",
    "\n",
    "output_file(\"stocks.html\", title=\"Stock Price\")\n",
    "\n",
    "#show(gridplot([plot_list], plot_width=400, plot_height=400))  # open a browser"
   ]
  },
  {
   "cell_type": "code",
   "execution_count": 12,
   "metadata": {
    "collapsed": false,
    "deletable": true,
    "editable": true
   },
   "outputs": [
    {
     "name": "stdout",
     "output_type": "stream",
     "text": [
      "Help on function output_file in module bokeh.io:\n",
      "\n",
      "output_file(filename, title='Bokeh Plot', mode='cdn', root_dir=None)\n",
      "    Configure the default output state to generate output saved\n",
      "    to a file when :func:`show` is called.\n",
      "    \n",
      "    Does not change the current Document from curdoc(). File,\n",
      "    server, and notebook output may be active at the same time, so\n",
      "    this does not clear the effects of output_server() or\n",
      "    output_notebook().\n",
      "    \n",
      "    Args:\n",
      "        filename (str) : a filename for saving the HTML document\n",
      "    \n",
      "        title (str, optional) : a title for the HTML document (default: \"Bokeh Plot\")\n",
      "    \n",
      "        mode (str, optional) : how to include BokehJS (default: ``'cdn'``)\n",
      "            One of: ``'inline'``, ``'cdn'``, ``'relative(-dev)'`` or\n",
      "            ``'absolute(-dev)'``. See :class:`bokeh.resources.Resources` for more details.\n",
      "    \n",
      "        root_dir (str, optional) : root directory to use for 'absolute' resources. (default: None)\n",
      "            This value is ignored for other resource types, e.g. ``INLINE`` or\n",
      "            ``CDN``.\n",
      "    \n",
      "    Returns:\n",
      "        None\n",
      "    \n",
      "    .. note::\n",
      "        Generally, this should be called at the beginning of an interactive\n",
      "        session or the top of a script.\n",
      "    \n",
      "    .. warning::\n",
      "        This output file will be overwritten on every save, e.g., each time\n",
      "        show() or save() is invoked.\n",
      "\n"
     ]
    }
   ],
   "source": [
    "help(output_file)"
   ]
  },
  {
   "cell_type": "code",
   "execution_count": null,
   "metadata": {
    "collapsed": true,
    "deletable": true,
    "editable": true
   },
   "outputs": [],
   "source": []
  }
 ],
 "metadata": {
  "kernelspec": {
   "display_name": "Python 3",
   "language": "python",
   "name": "python3"
  },
  "language_info": {
   "codemirror_mode": {
    "name": "ipython",
    "version": 3
   },
   "file_extension": ".py",
   "mimetype": "text/x-python",
   "name": "python",
   "nbconvert_exporter": "python",
   "pygments_lexer": "ipython3",
   "version": "3.5.3"
  }
 },
 "nbformat": 4,
 "nbformat_minor": 2
}
