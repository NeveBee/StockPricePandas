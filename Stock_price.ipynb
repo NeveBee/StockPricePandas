{
 "cells": [
  {
   "cell_type": "code",
   "execution_count": 1,
   "metadata": {
    "collapsed": false,
    "deletable": true,
    "editable": true
   },
   "outputs": [],
   "source": [
    "import numpy as np\n",
    "import pandas as pd\n",
    "import simplejson as json\n",
    "import requests\n",
    "import quandl\n",
    "import bokeh\n",
    "from bokeh.layouts import gridplot\n",
    "from bokeh.plotting import figure, show, output_file\n",
    "\n",
    "#help(quandl.get)\n"
   ]
  },
  {
   "cell_type": "code",
   "execution_count": 2,
   "metadata": {
    "collapsed": false,
    "deletable": true,
    "editable": true
   },
   "outputs": [
    {
     "data": {
      "text/plain": [
       "'/Users/qiaolinchen/Documents/Data_Incubator/12day/flask_demo'"
      ]
     },
     "execution_count": 2,
     "metadata": {},
     "output_type": "execute_result"
    }
   ],
   "source": [
    "import os\n",
    "cwd = os.getcwd()\n",
    "cwd"
   ]
  },
  {
   "cell_type": "code",
   "execution_count": 8,
   "metadata": {
    "collapsed": false,
    "deletable": true,
    "editable": true
   },
   "outputs": [
    {
     "name": "stderr",
     "output_type": "stream",
     "text": [
      "INFO:requests.packages.urllib3.connectionpool:Starting new HTTPS connection (1): www.quandl.com\n"
     ]
    },
    {
     "name": "stdout",
     "output_type": "stream",
     "text": [
      "['WIKI/GOOG-Open', 'WIKI/FB-Open', 'WIKI/AAPL-Open']\n"
     ]
    },
    {
     "name": "stderr",
     "output_type": "stream",
     "text": [
      "INFO:requests.packages.urllib3.connectionpool:Starting new HTTPS connection (1): www.quandl.com\n",
      "INFO:requests.packages.urllib3.connectionpool:Starting new HTTPS connection (1): www.quandl.com\n"
     ]
    },
    {
     "name": "stdout",
     "output_type": "stream",
     "text": [
      "['WIKI/GOOG-Open - Open', 'WIKI/GOOG-Open - High', 'WIKI/GOOG-Open - Close', 'WIKI/GOOG-Open - Low', 'WIKI/FB-Open - Open', 'WIKI/FB-Open - High', 'WIKI/FB-Open - Close', 'WIKI/FB-Open - Low', 'WIKI/AAPL-Open - Open', 'WIKI/AAPL-Open - High', 'WIKI/AAPL-Open - Close', 'WIKI/AAPL-Open - Low']\n"
     ]
    }
   ],
   "source": [
    "# A list of tickers\n",
    "tickers = ['GOOG','FB','AAPL']\n",
    "# A list of features to show\n",
    "input_feature = [' - Open',' - High', ' - Close', ' - Low']\n",
    "\n",
    "# create a list of dataset names\n",
    "dset =[]\n",
    "for ticker in tickers:\n",
    "    dset.append(\"WIKI/\"+ ticker +\"-Open\")\n",
    "\n",
    "print(dset)\n",
    "stock = quandl.get(dataset= dset,  api_key= 'wad4CxZw1s-6BTGhjei6', returns= 'pandas' )\n",
    "#print(stock.columns)\n",
    "\n",
    "def datetime(x):\n",
    "    return np.array(x, dtype=np.datetime64)\n",
    "\n",
    "features =[]\n",
    "for ds in dset:\n",
    "    for f in input_feature:\n",
    "        features.append(ds + f)\n",
    "print(features)\n"
   ]
  },
  {
   "cell_type": "code",
   "execution_count": 4,
   "metadata": {
    "collapsed": false,
    "deletable": true,
    "editable": true
   },
   "outputs": [
    {
     "data": {
      "text/html": [
       "<div>\n",
       "<table border=\"1\" class=\"dataframe\">\n",
       "  <thead>\n",
       "    <tr style=\"text-align: right;\">\n",
       "      <th></th>\n",
       "      <th>WIKI/GOOG-Open - Open</th>\n",
       "      <th>WIKI/GOOG-Open - High</th>\n",
       "      <th>WIKI/GOOG-Open - Close</th>\n",
       "      <th>WIKI/GOOG-Open - Low</th>\n",
       "      <th>WIKI/FB-Open - Open</th>\n",
       "      <th>WIKI/FB-Open - High</th>\n",
       "      <th>WIKI/FB-Open - Close</th>\n",
       "      <th>WIKI/FB-Open - Low</th>\n",
       "      <th>WIKI/AAPL-Open - Open</th>\n",
       "      <th>WIKI/AAPL-Open - High</th>\n",
       "      <th>WIKI/AAPL-Open - Close</th>\n",
       "      <th>WIKI/AAPL-Open - Low</th>\n",
       "      <th>Date</th>\n",
       "    </tr>\n",
       "    <tr>\n",
       "      <th>Date</th>\n",
       "      <th></th>\n",
       "      <th></th>\n",
       "      <th></th>\n",
       "      <th></th>\n",
       "      <th></th>\n",
       "      <th></th>\n",
       "      <th></th>\n",
       "      <th></th>\n",
       "      <th></th>\n",
       "      <th></th>\n",
       "      <th></th>\n",
       "      <th></th>\n",
       "      <th></th>\n",
       "    </tr>\n",
       "  </thead>\n",
       "  <tbody>\n",
       "    <tr>\n",
       "      <th>2017-03-17</th>\n",
       "      <td>851.61</td>\n",
       "      <td>853.40</td>\n",
       "      <td>852.12</td>\n",
       "      <td>847.1100</td>\n",
       "      <td>140.34</td>\n",
       "      <td>140.3400</td>\n",
       "      <td>139.78</td>\n",
       "      <td>139.70</td>\n",
       "      <td>141.000</td>\n",
       "      <td>141.0000</td>\n",
       "      <td>139.9100</td>\n",
       "      <td>139.89</td>\n",
       "      <td>2017-03-17</td>\n",
       "    </tr>\n",
       "    <tr>\n",
       "      <th>2017-03-20</th>\n",
       "      <td>850.01</td>\n",
       "      <td>850.22</td>\n",
       "      <td>848.40</td>\n",
       "      <td>845.1500</td>\n",
       "      <td>139.71</td>\n",
       "      <td>140.1900</td>\n",
       "      <td>139.94</td>\n",
       "      <td>139.25</td>\n",
       "      <td>140.400</td>\n",
       "      <td>141.5000</td>\n",
       "      <td>141.4500</td>\n",
       "      <td>140.23</td>\n",
       "      <td>2017-03-20</td>\n",
       "    </tr>\n",
       "    <tr>\n",
       "      <th>2017-03-21</th>\n",
       "      <td>851.40</td>\n",
       "      <td>853.50</td>\n",
       "      <td>830.46</td>\n",
       "      <td>829.0200</td>\n",
       "      <td>141.15</td>\n",
       "      <td>142.3082</td>\n",
       "      <td>138.51</td>\n",
       "      <td>138.40</td>\n",
       "      <td>142.110</td>\n",
       "      <td>142.8000</td>\n",
       "      <td>139.8547</td>\n",
       "      <td>139.73</td>\n",
       "      <td>2017-03-21</td>\n",
       "    </tr>\n",
       "    <tr>\n",
       "      <th>2017-03-22</th>\n",
       "      <td>831.91</td>\n",
       "      <td>835.55</td>\n",
       "      <td>829.59</td>\n",
       "      <td>827.1801</td>\n",
       "      <td>137.93</td>\n",
       "      <td>139.7900</td>\n",
       "      <td>139.59</td>\n",
       "      <td>137.60</td>\n",
       "      <td>139.845</td>\n",
       "      <td>141.6000</td>\n",
       "      <td>141.4200</td>\n",
       "      <td>139.76</td>\n",
       "      <td>2017-03-22</td>\n",
       "    </tr>\n",
       "    <tr>\n",
       "      <th>2017-03-23</th>\n",
       "      <td>821.00</td>\n",
       "      <td>822.57</td>\n",
       "      <td>817.58</td>\n",
       "      <td>812.2570</td>\n",
       "      <td>139.48</td>\n",
       "      <td>140.3900</td>\n",
       "      <td>139.53</td>\n",
       "      <td>139.09</td>\n",
       "      <td>141.260</td>\n",
       "      <td>141.5844</td>\n",
       "      <td>140.9200</td>\n",
       "      <td>140.61</td>\n",
       "      <td>2017-03-23</td>\n",
       "    </tr>\n",
       "  </tbody>\n",
       "</table>\n",
       "</div>"
      ],
      "text/plain": [
       "            WIKI/GOOG-Open - Open  WIKI/GOOG-Open - High  \\\n",
       "Date                                                       \n",
       "2017-03-17                 851.61                 853.40   \n",
       "2017-03-20                 850.01                 850.22   \n",
       "2017-03-21                 851.40                 853.50   \n",
       "2017-03-22                 831.91                 835.55   \n",
       "2017-03-23                 821.00                 822.57   \n",
       "\n",
       "            WIKI/GOOG-Open - Close  WIKI/GOOG-Open - Low  WIKI/FB-Open - Open  \\\n",
       "Date                                                                            \n",
       "2017-03-17                  852.12              847.1100               140.34   \n",
       "2017-03-20                  848.40              845.1500               139.71   \n",
       "2017-03-21                  830.46              829.0200               141.15   \n",
       "2017-03-22                  829.59              827.1801               137.93   \n",
       "2017-03-23                  817.58              812.2570               139.48   \n",
       "\n",
       "            WIKI/FB-Open - High  WIKI/FB-Open - Close  WIKI/FB-Open - Low  \\\n",
       "Date                                                                        \n",
       "2017-03-17             140.3400                139.78              139.70   \n",
       "2017-03-20             140.1900                139.94              139.25   \n",
       "2017-03-21             142.3082                138.51              138.40   \n",
       "2017-03-22             139.7900                139.59              137.60   \n",
       "2017-03-23             140.3900                139.53              139.09   \n",
       "\n",
       "            WIKI/AAPL-Open - Open  WIKI/AAPL-Open - High  \\\n",
       "Date                                                       \n",
       "2017-03-17                141.000               141.0000   \n",
       "2017-03-20                140.400               141.5000   \n",
       "2017-03-21                142.110               142.8000   \n",
       "2017-03-22                139.845               141.6000   \n",
       "2017-03-23                141.260               141.5844   \n",
       "\n",
       "            WIKI/AAPL-Open - Close  WIKI/AAPL-Open - Low       Date  \n",
       "Date                                                                 \n",
       "2017-03-17                139.9100                139.89 2017-03-17  \n",
       "2017-03-20                141.4500                140.23 2017-03-20  \n",
       "2017-03-21                139.8547                139.73 2017-03-21  \n",
       "2017-03-22                141.4200                139.76 2017-03-22  \n",
       "2017-03-23                140.9200                140.61 2017-03-23  "
      ]
     },
     "execution_count": 4,
     "metadata": {},
     "output_type": "execute_result"
    }
   ],
   "source": [
    "# select only features wanted\n",
    "stock_data= stock.loc[:, features]\n",
    "stock_data['Date'] = stock_data.index.values.astype('datetime64[ns]')\n",
    "stock_data.tail()"
   ]
  },
  {
   "cell_type": "code",
   "execution_count": 11,
   "metadata": {
    "collapsed": false,
    "deletable": true,
    "editable": true
   },
   "outputs": [
    {
     "name": "stdout",
     "output_type": "stream",
     "text": [
      "['GOOG', 'FB', 'AAPL']\n",
      "[' - Open', ' - High', ' - Close', ' - Low']\n",
      "['WIKI/GOOG-Open', 'WIKI/FB-Open', 'WIKI/AAPL-Open']\n"
     ]
    },
    {
     "name": "stderr",
     "output_type": "stream",
     "text": [
      "INFO:bokeh.core.state:Session output file './templates/stocks.html' already exists, will be overwritten.\n"
     ]
    },
    {
     "name": "stdout",
     "output_type": "stream",
     "text": [
      "[Figure(id='9ee21703-aacf-48a0-b202-4af336361c47', ...), Figure(id='f1c80981-d671-402e-a193-2650ae5dff23', ...), Figure(id='6f839597-7793-4869-ac7d-ba2471016818', ...)]\n"
     ]
    }
   ],
   "source": [
    "color_list = ['#A6CEE3','#B2DF8A','#33A02C','#FB9A99','blue']\n",
    "plot_list =[]\n",
    "print(tickers)\n",
    "print(input_feature)\n",
    "print(dset)\n",
    "\n",
    "for x in tickers:\n",
    "    globals()['p%s' % x] = figure(x_axis_type=\"datetime\", title=\"Stock Closing Prices: \"+x)\n",
    "    globals()['p%s' % x].grid.grid_line_alpha=0.3    \n",
    "    globals()['p%s' % x].xaxis.axis_label = 'Date'   \n",
    "    globals()['p%s' % x].yaxis.axis_label = 'Price'    \n",
    "    globals()['p%s' % x].ygrid.band_fill_color = \"olive\"\n",
    "    globals()['p%s' % x].ygrid.band_fill_alpha = 0.05\n",
    "\n",
    "    for f in input_feature :\n",
    "        i= input_feature.index(f)\n",
    "        #print(i, x, f)\n",
    "        globals()['p%s' % x].line(stock_data['Date'], stock_data['WIKI/'+x+'-Open'+f], \n",
    "                                  color= color_list[i], legend= x+f) \n",
    "    \n",
    "    globals()['p%s' % x].legend.location = \"top_left\"\n",
    "    \n",
    "    plot_list.append(globals()['p%s' % x])\n",
    "print(plot_list)    \n",
    "\n",
    "output_file(\"./templates/stocks.html\", title=\"Stock Price\")\n",
    "\n",
    "show(gridplot([plot_list], plot_width=500, plot_height=500))  # open a browser"
   ]
  },
  {
   "cell_type": "code",
   "execution_count": null,
   "metadata": {
    "collapsed": true,
    "deletable": true,
    "editable": true
   },
   "outputs": [],
   "source": []
  }
 ],
 "metadata": {
  "kernelspec": {
   "display_name": "Python 3",
   "language": "python",
   "name": "python3"
  },
  "language_info": {
   "codemirror_mode": {
    "name": "ipython",
    "version": 3
   },
   "file_extension": ".py",
   "mimetype": "text/x-python",
   "name": "python",
   "nbconvert_exporter": "python",
   "pygments_lexer": "ipython3",
   "version": "3.5.3"
  }
 },
 "nbformat": 4,
 "nbformat_minor": 2
}
